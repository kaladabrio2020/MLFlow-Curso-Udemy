{
 "cells": [
  {
   "cell_type": "code",
   "execution_count": 2,
   "metadata": {},
   "outputs": [
    {
     "name": "stdout",
     "output_type": "stream",
     "text": [
      "Writing autolog.py\n"
     ]
    }
   ],
   "source": [
    "%%writefile autolog.py\n",
    "import mlflow.models\n",
    "import pandas as pd\n",
    "from  sklearn.metrics import r2_score, mean_absolute_error\n",
    "from  sklearn.linear_model import SGDRegressor\n",
    "from  sklearn.model_selection import train_test_split\n",
    "\n",
    "\n",
    "import mlflow\n",
    "import mlflow.sklearn\n",
    "\n",
    "import omegaconf\n",
    "def print_(get_):\n",
    "    return f\"\"\"\n",
    "Name..............: {get_.name}\n",
    "Id................: {get_.experiment_id}\n",
    "Tag...............: {get_.tags}\n",
    "LyfeCycle_Stage...: {get_.lifecycle_stage}\n",
    "Artifact Location : {get_.artifact_location}\n",
    "Timestamp Create..: {get_.creation_time}\n",
    "\"\"\"\n",
    "\n",
    "def train_(X, y):\n",
    "\n",
    "\n",
    "    mlflow.set_tracking_uri('./meuMlflow')\n",
    "\n",
    "    try:\n",
    "        exp = mlflow.create_experiment(name=\"SGDregressor\")\n",
    "        get_ = mlflow.get_experiment(exp)\n",
    "\n",
    "    except:\n",
    "        get_ = mlflow.set_experiment(experiment_name=\"SGDregressor\")\n",
    "\n",
    "    # Informações\n",
    "    print(\"URI : \", mlflow.get_tracking_uri())\n",
    "    print(print_(get_))\n",
    "\n",
    "\n",
    "    xtrain, xtest, ytrain, ytest = train_test_split(X, y, random_state=32, test_size=0.75)\n",
    "    \n",
    "    # Salvando dados train e test\n",
    "    pd.concat([xtrain, ytrain]).to_csv(\"dataset2_/train.csv\")\n",
    "    pd.concat([xtest, ytest]).to_csv(\"dataset2_/test.csv\")\n",
    "\n",
    "    # Pegando os hiperparametros do modelo\n",
    "    config = omegaconf.OmegaConf.load(file_=\"configSGD.yml\")\n",
    "\n",
    "    with mlflow.start_run(experiment_id=get_.experiment_id):\n",
    "        mlflow.autolog(\n",
    "            log_input_examples=True,\n",
    "        )\n",
    "        sgd_ = SGDRegressor(**config.parameters)\n",
    "        sgd_.fit(xtrain, ytrain)\n",
    "        pred_ = sgd_.predict(xtrain)\n",
    "\n",
    "        # registrando artefatos\n",
    "        mlflow.log_artifacts(\n",
    "            local_dir=\"./dataset2_/\"\n",
    "        )\n",
    "   \n",
    "\n",
    "\n",
    "if __name__ == \"__main__\":\n",
    "    data = pd.read_csv(\"./dataset2_/wine-quality.csv\", sep=';')\n",
    "\n",
    "    X = data.drop(columns=[\"quality\"])\n",
    "    y = data[\"quality\"]\n",
    "\n",
    "    train_(X, y)"
   ]
  }
 ],
 "metadata": {
  "kernelspec": {
   "display_name": "Python 3",
   "language": "python",
   "name": "python3"
  },
  "language_info": {
   "codemirror_mode": {
    "name": "ipython",
    "version": 3
   },
   "file_extension": ".py",
   "mimetype": "text/x-python",
   "name": "python",
   "nbconvert_exporter": "python",
   "pygments_lexer": "ipython3",
   "version": "3.12.7"
  }
 },
 "nbformat": 4,
 "nbformat_minor": 2
}
