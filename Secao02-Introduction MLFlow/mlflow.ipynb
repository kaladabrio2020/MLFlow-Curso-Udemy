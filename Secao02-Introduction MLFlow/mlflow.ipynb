{
 "cells": [
  {
   "cell_type": "markdown",
   "metadata": {},
   "source": [
    "## MLFlow \n",
    "\n",
    "Quatro componentes:\n",
    "1. Tracking: é usado para rastrear experimetos para registrar e comparar parametros e resultados\n",
    "    * Permiti registrar sessões de treinamento do modelos\n",
    "\n",
    "\n",
    "2. Projects: Embala o codigo usado nos projetos de CD, garantido que ele possa facilmente ser reutilizados e os experimentos podem ser reproduzidos\n",
    "    * Simplifica o processo de pacotes\n",
    "\n",
    "3. Models: Empacotar e reutilizar modelos de machine learning, permite gerenciar e implantar modelos de uma variedades e bibliotecas de ML\n",
    "\n",
    "4. Registry: é um registro do modelo MLFLOW, que é um armazenamentro centrla dos modelos para gerenciar de forma colaborativa todo o ciclo de vida do modelo, incluindo versionamento do modelo, transiçao de estados e anotações"
   ]
  }
 ],
 "metadata": {
  "language_info": {
   "name": "python"
  }
 },
 "nbformat": 4,
 "nbformat_minor": 2
}
