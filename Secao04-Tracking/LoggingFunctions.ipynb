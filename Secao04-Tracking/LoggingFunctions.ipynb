{
 "cells": [
  {
   "cell_type": "markdown",
   "metadata": {},
   "source": [
    "## Logging functions\n",
    "\n",
    "São funções utilizadas para registrar (logar) informações relevantes durante o treinamento e avaliação de modelos de aprendizado de máquina. Essas informações incluem métricas, parâmetros, artefatos (como gráficos ou arquivos) e modelos, permitindo rastrear experimentos e facilitar reprodutibilidade."
   ]
  },
  {
   "cell_type": "markdown",
   "metadata": {},
   "source": [
    "1. As duas primeiras são :\n",
    "    * Uri de rastramento de conj. de pontos do MLflow e Uri de rastramento de ponto do MLflow\n",
    "\n",
    "    ```python\n",
    "    mlflow.set_tracking_uri()\n",
    "    ```\n",
    "    > É usada para definir o local de sua escolha, onde deseja manter os rastros de seu codigo\n",
    "    > A função de rastreamento definidda no mlflow é usada para definir o servidor de rastreamento padrão \n",
    "    > Se deseja alterar o local pode fazer por meio dessa função\n",
    "\n",
    "    ```python\n",
    "    mlflow.get_tracking_uri()\n",
    "    ```\n",
    "    > É recuperar o caminho da localização\n",
    "exemplo abaixo:"
   ]
  },
  {
   "cell_type": "code",
   "execution_count": 1,
   "metadata": {},
   "outputs": [],
   "source": [
    "import mlflow"
   ]
  },
  {
   "cell_type": "code",
   "execution_count": 8,
   "metadata": {},
   "outputs": [],
   "source": [
    "mlflow.set_tracking_uri(uri=\"https://localhost:5000/home\")"
   ]
  },
  {
   "cell_type": "code",
   "execution_count": 9,
   "metadata": {},
   "outputs": [
    {
     "name": "stdout",
     "output_type": "stream",
     "text": [
      "https://localhost:5000/home\n"
     ]
    }
   ],
   "source": [
    "print(mlflow.get_tracking_uri())"
   ]
  },
  {
   "cell_type": "code",
   "execution_count": 5,
   "metadata": {},
   "outputs": [
    {
     "name": "stdout",
     "output_type": "stream",
     "text": [
      "Overwriting logg.py\n"
     ]
    }
   ],
   "source": [
    "%%writefile logg.py\n",
    "import warnings\n",
    "import argparse\n",
    "import logging\n",
    "\n",
    "# --------\n",
    "import pandas as pd\n",
    "import numpy as np\n",
    "\n",
    "#----------\n",
    "from sklearn.metrics import root_mean_squared_error, mean_absolute_error, r2_score\n",
    "from sklearn.model_selection import train_test_split\n",
    "from sklearn.linear_model import ElasticNet\n",
    "\n",
    "#--------- Importando mlflow\n",
    "import mlflow\n",
    "import mlflow.sklearn as mlsk\n",
    "\n",
    "logging.basicConfig(\n",
    "    level=logging.WARN\n",
    ")\n",
    "logger = logging.getLogger(__name__)\n",
    "\n",
    "\"\"\"\n",
    "e é uma biblioteca do Python que facilita a criação de interfaces de \n",
    "linha de comando (CLI) para seus scripts.  Ele permite que você defina \n",
    "quais argumentos (ou parâmetros) o script pode receber e os processa \n",
    "automaticamente para que você os utilize dentro do programa.\n",
    "\"\"\"\n",
    "parser = argparse.ArgumentParser()\n",
    "parser.add_argument(\n",
    "    \"--alpha\",\n",
    "    type = float,\n",
    "    required = False,\n",
    "    default = 0.5\n",
    ")\n",
    "parser.add_argument(\n",
    "    \"--l1_ratio\",\n",
    "    type = float,\n",
    "    required = False,\n",
    "    default = 0.5\n",
    ")\n",
    "args = parser.parse_args()\n",
    "\n",
    "\n",
    "# Metricas\n",
    "def metricas(ytrue, ypred):\n",
    "    rmse = root_mean_squared_error(ytrue, ypred)\n",
    "    mae  = mean_absolute_error(ytrue, ypred)\n",
    "    r2_  = r2_score(ytrue, ypred)\n",
    "\n",
    "    return rmse, mae, r2_\n",
    "\n",
    "\n",
    "if __name__ == \"__main__\":\n",
    "    warnings.filterwarnings(\"ignore\")\n",
    "    np.random.seed(40)\n",
    "\n",
    "    url = (\n",
    "        \"https://raw.githubusercontent.com/shrikant-temburwar/Wine-Quality-Dataset/master/winequality-red.csv\"\n",
    "    )\n",
    "\n",
    "    try:\n",
    "        data_ = pd.read_csv(url, sep=';')\n",
    "\n",
    "    except Exception as e:\n",
    "        logger.exception(\n",
    "            \"OBS: Algo deu de errado\", 0\n",
    "        )\n",
    "    train, test = train_test_split(data_)\n",
    "\n",
    "    xtrain, ytrain = (\n",
    "        train.drop(columns=[\"quality\"]),\n",
    "        train[\"quality\"]\n",
    "    )\n",
    "\n",
    "    xtest, ytest = (\n",
    "        test.drop(columns=[\"quality\"]),\n",
    "        test[\"quality\"]\n",
    "    )\n",
    "\n",
    "    alpha = args.alpha\n",
    "    l1_ratio = args.l1_ratio\n",
    "    # Definindo o URI\n",
    "    mlflow.set_tracking_uri(\n",
    "        uri=\"http://168.196.20.94/mlartifacts\"\n",
    "    )\n",
    "    print(\"Uri :\", mlflow.get_tracking_uri())\n",
    "\n",
    "    # Definindo um nome do experimento\n",
    "    exp = mlflow.set_experiment(experiment_name=\"ExperimentRegElastic\")\n",
    "\n",
    "    with mlflow.start_run(experiment_id=exp.experiment_id):\n",
    "        elastic = ElasticNet(\n",
    "            alpha=alpha, l1_ratio=l1_ratio, random_state=32\n",
    "        )\n",
    "        elastic.fit(xtrain, ytrain)\n",
    "    \n",
    "        pred_ = elastic.predict(xtest)\n",
    "    \n",
    "        \n",
    "        rmse, mae, r2 = metricas(ytest, pred_)\n",
    "        \n",
    "        print(elastic.get_params)\n",
    "        print(\"RMSE :\",rmse)\n",
    "        print(\"MAE  :\",mae)\n",
    "        print(\"R2   :\",r2)\n",
    "\n",
    "        # Logando os paramatros do modelos\n",
    "        mlflow.log_params(\n",
    "            {\"alpha\":alpha, \"l1_ratio\":l1_ratio}\n",
    "        )\n",
    "\n",
    "        # Logando metricas\n",
    "        mlflow.log_metrics(\n",
    "            dict(\n",
    "                root_mean_squared_error_ = rmse,\n",
    "                mean_absolute_error_     = mae,\n",
    "                r2_score_                = r2\n",
    "            )\n",
    "        )\n",
    "\n",
    "        # Rastreando modelo treinado\n",
    "        sign = mlflow.models.infer_signature(\n",
    "            xtrain, pred_\n",
    "        )\n",
    "        mlsk.log_model(\n",
    "            elastic, \"modelo_elasticNet\", signature=sign\n",
    "        )"
   ]
  }
 ],
 "metadata": {
  "kernelspec": {
   "display_name": "Python 3",
   "language": "python",
   "name": "python3"
  },
  "language_info": {
   "codemirror_mode": {
    "name": "ipython",
    "version": 3
   },
   "file_extension": ".py",
   "mimetype": "text/x-python",
   "name": "python",
   "nbconvert_exporter": "python",
   "pygments_lexer": "ipython3",
   "version": "3.12.7"
  }
 },
 "nbformat": 4,
 "nbformat_minor": 2
}
